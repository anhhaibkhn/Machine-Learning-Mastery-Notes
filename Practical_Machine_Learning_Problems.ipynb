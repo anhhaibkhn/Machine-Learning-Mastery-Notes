{
  "nbformat": 4,
  "nbformat_minor": 0,
  "metadata": {
    "colab": {
      "name": "Practical Machine Learning Problems.ipynb",
      "provenance": [],
      "collapsed_sections": [],
      "authorship_tag": "ABX9TyN5eNAhupN1OL+yNMH1tsKG",
      "include_colab_link": true
    },
    "kernelspec": {
      "name": "python3",
      "display_name": "Python 3"
    }
  },
  "cells": [
    {
      "cell_type": "markdown",
      "metadata": {
        "id": "view-in-github",
        "colab_type": "text"
      },
      "source": [
        "<a href=\"https://colab.research.google.com/github/anhhaibkhn/Machine-Learning-Mastery-Notes/blob/master/Practical_Machine_Learning_Problems.ipynb\" target=\"_parent\"><img src=\"https://colab.research.google.com/assets/colab-badge.svg\" alt=\"Open In Colab\"/></a>"
      ]
    },
    {
      "cell_type": "markdown",
      "metadata": {
        "id": "YvYTGFmdgA01",
        "colab_type": "text"
      },
      "source": [
        "The best way to understand machine learning is to look at example problems.\n",
        "\n",
        "#### 10 Examples of Machine Learning Problems\n",
        "\n",
        "1. Spam Detection\n",
        "2. Credit Card Fraud Detection\n",
        "3. Digit Recogniztion \n",
        "4. Speech Understanding \n",
        "5. Face Detection\n",
        "6. Product Recommendation\n",
        "7. Medical Diagnosis\n",
        "8. Stock Trading\n",
        "9. Customer Segmentation\n",
        "10. Shape detection\n",
        "\n",
        "#### 4 Types of Machine Learning Problems\n",
        "\n",
        "#### 1. Classification\n",
        "* `Data is labelled` meaning it is assigned a class\n",
        "* For example `spam/non-spam` or `fraud/non-fraud`. The decision being modelled is to assign labels to new unlabelled pieces of data. This can be thought of as a discrimination problem, modelling the differences or similarities between groups\n",
        "\n",
        "#### 2. Regression\n",
        "* `Data is labelled` with a real value (think floating point) rather then a label.\n",
        "* Examples that are easy to understand are time series data like the price of a stock over time, The decision being modelled is what value to predict for new unpredicted data.\n",
        "\n",
        "#### 3. Clustering\n",
        "* `Data is not labelled`, but can be divided into groups based on similarity and other measures of natural structure in the data. \n",
        "* An example from the above list would be `organising pictures by faces` without names, where the human user has to assign names to groups, like iPhoto on the Mac.\n",
        "\n",
        "#### 4. Rule Etraction\n",
        "* Data is used as the basis for the extraction of propositional rules (antecedent/consequent aka if-then). Such rules may, but are typically not directed, meaning that the methods discover statistically supportable relationships between attributes in the data, not necessarily involving something that is being predicted. \n",
        "* An example is the discovery o`f the relationship between the purchase of beer and diapers` (this is data mining folk-law, true or not, it’s illustrative of the desire and opportunity).\n",
        "\n"
      ]
    },
    {
      "cell_type": "code",
      "metadata": {
        "id": "UCPtL5i06o_U",
        "colab_type": "code",
        "colab": {}
      },
      "source": [
        ""
      ],
      "execution_count": null,
      "outputs": []
    }
  ]
}