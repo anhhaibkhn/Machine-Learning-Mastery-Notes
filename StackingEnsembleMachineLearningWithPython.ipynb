{
  "nbformat": 4,
  "nbformat_minor": 0,
  "metadata": {
    "colab": {
      "name": "StackingEnsembleMachineLearningWithPython.ipynb",
      "provenance": [],
      "collapsed_sections": [],
      "authorship_tag": "ABX9TyMp9vvn0sHFCH+I6UNwGCIm",
      "include_colab_link": true
    },
    "kernelspec": {
      "name": "python3",
      "display_name": "Python 3"
    }
  },
  "cells": [
    {
      "cell_type": "markdown",
      "metadata": {
        "id": "view-in-github",
        "colab_type": "text"
      },
      "source": [
        "<a href=\"https://colab.research.google.com/github/anhhaibkhn/Machine-Learning-Mastery-Notes/blob/master/StackingEnsembleMachineLearningWithPython.ipynb\" target=\"_parent\"><img src=\"https://colab.research.google.com/assets/colab-badge.svg\" alt=\"Open In Colab\"/></a>"
      ]
    },
    {
      "cell_type": "markdown",
      "metadata": {
        "id": "7jw1cFtec3QX",
        "colab_type": "text"
      },
      "source": [
        "### Stacking Ensemble Machine Learning With Python\n",
        "[Source](https://machinelearningmastery.com/stacking-ensemble-machine-learning-with-python/)\n",
        "\n",
        "Stacking or stacked generalization is an ensemle ML algorithm.\n",
        "It uses meta-learning algorithm to learn **how to best combine the predictions from 2 or more base ML algorithms**. The benefit of stacking is that it can harness the capabilities of a range of well-performing models on a `calssifcation` or regression task and make better performance preidcitons than the single ones. \n",
        "\n",
        "#### Key points:\n",
        "* Stacking is an ensemble machine learning algorithm that learns how to best combine the predictions from multiple well-performing machine learning models.\n",
        "* The scikit-learn library provides a standard implementation of the stacking ensemble in Python.\n",
        "* How to use stacking ensembles for regression and classification predictive modeling.\n",
        "\n",
        "#### Overview\n",
        "\n",
        "1. Stacked Generalizatioin \n",
        "2. Stacking Scikit-Learn API\n",
        "3. Stacking for Classfication\n",
        "4. Stacking for Regression"
      ]
    },
    {
      "cell_type": "markdown",
      "metadata": {
        "id": "_CnrFBZYeaOj",
        "colab_type": "text"
      },
      "source": [
        "### 1. Stacked Generalization\n",
        "\n",
        "It involves combining the predictions from multiple machine learning models on the same dataset, like bagging and boosting.\n",
        "\n",
        "#### Stacking addresses the question:\n",
        "\n",
        "Given multiple machine learning models that are skillful on a problem, but in different ways, how do you choose which model to use (trust)?\n",
        "\n",
        "The approach to this question is to use another machine learning model that learns when to use or trust each model in the ensemble.\n",
        "\n",
        "#### Architecture \n",
        "\n",
        "#### Level-0 Models (Base-Models): \n",
        "\n",
        "* Models fit on the training data and whose predictions are compiled.\n",
        "\n",
        "* Base-models are often complex and diverse. As such, it is often a good idea to use a range of models that make very different assumptions about how to solve the predictive modeling task, such as linear models, decision trees, support vector machines, neural networks, and more. Other ensemble algorithms may also be used as base-models, such as random forests.\n",
        "\n",
        "* Base-Models: Use a diverse range of models that make different assumptions about the prediction task.\n",
        "\n",
        "Level-1 Model (Meta-Model)\n",
        "* Model that learns how to best combine the predictions of the base models.\n",
        "* The meta-model is often simple, providing a smooth interpretation of the predictions made by the base models. As such, linear models are often used as the meta-model, such as linear regression for regression tasks (predicting a numeric value) and logistic regression for classification tasks (predicting a class label).\n",
        "* Examples: Regression Meta-model like Linear Regression, Classfication Meta-model likes Logistic Regression\n",
        "\n",
        "\n",
        "The most common approach to preparing the training dataset for the meta-model is via [k-fold cross-validation](https://machinelearningmastery.com/k-fold-cross-validation/) of the base models, where the [out-of-fold predictions](https://machinelearningmastery.com/out-of-fold-predictions-in-machine-learning/) are used as the basis for the training dataset for the meta-model."
      ]
    },
    {
      "cell_type": "markdown",
      "metadata": {
        "id": "JkK7-oNDex5k",
        "colab_type": "text"
      },
      "source": [
        "### 2. Stacking Scikit-Learn API\n",
        "\n",
        "[Implementing stacking from scratch in Python tutorial.](https://machinelearningmastery.com/implementing-stacking-scratch-python/)\n",
        "\n",
        "[Implementing stacking from scratch for deep learning in Python tutorial.](https://machinelearningmastery.com/stacking-ensemble-for-deep-learning-neural-networks/)\n",
        "\n",
        "The scikit-learn Python machine learning library provides an implementation of stacking for machine learning.\n",
        "\n",
        "It is available in version 0.22 of the library and higher\n",
        "Stacking is provided via the [StackingRegressor](https://scikit-learn.org/stable/modules/generated/sklearn.ensemble.StackingRegressor.html) and [StackingClassifier](https://scikit-learn.org/stable/modules/generated/sklearn.ensemble.StackingClassifier.html) classes."
      ]
    },
    {
      "cell_type": "code",
      "metadata": {
        "id": "vXdHFI-tcpDB",
        "colab_type": "code",
        "colab": {
          "base_uri": "https://localhost:8080/",
          "height": 35
        },
        "outputId": "f013e577-fe39-4d32-986e-e5452e25e082"
      },
      "source": [
        "\t# check scikit-learn version\n",
        "import sklearn\n",
        "print(sklearn.__version__)"
      ],
      "execution_count": 1,
      "outputs": [
        {
          "output_type": "stream",
          "text": [
            "0.22.2.post1\n"
          ],
          "name": "stdout"
        }
      ]
    },
    {
      "cell_type": "code",
      "metadata": {
        "id": "DCIVawTMe1Nz",
        "colab_type": "code",
        "colab": {}
      },
      "source": [
        "''' Define 2 level-0 models'''\n",
        "from sklearn.linear_model import LogisticRegression\n",
        "from sklearn.svm import SVC\n",
        "from sklearn.ensemble import StackingClassifier\n",
        "models = [('lr',LogisticRegression()),('svm',SVC())] \n",
        "stacking = StackingClassifier(estimators=models)"
      ],
      "execution_count": 8,
      "outputs": []
    },
    {
      "cell_type": "code",
      "metadata": {
        "id": "IeQm12xO_7Bn",
        "colab_type": "code",
        "colab": {}
      },
      "source": [
        "'''Each model in the list may also be a Pipeline, \n",
        "including any data preparation required by the model prior to fitting the model on the training dataset'''\n",
        "from sklearn.pipeline import make_pipeline\n",
        "from sklearn.preprocessing import StandardScaler\n",
        "\n",
        "models = [('lr',LogisticRegression()),('svm',make_pipeline(StandardScaler(),SVC()))]\n",
        "stacking = StackingClassifier(estimators=models)"
      ],
      "execution_count": 13,
      "outputs": []
    },
    {
      "cell_type": "markdown",
      "metadata": {
        "id": "N6zWXbF-Ohg8",
        "colab_type": "text"
      },
      "source": [
        "The dataset for the meta-model is prepared using cross-validation. By default,` 5-fold cross-validation` is used, although this can be changed via the “cv” argument and set to either a number (e.g. 10 for 10-fold cross-validation) or a cross-validation object (e.g. StratifiedKFold)"
      ]
    },
    {
      "cell_type": "markdown",
      "metadata": {
        "id": "PNoV1Edge2oM",
        "colab_type": "text"
      },
      "source": [
        "#### 3. Stacking for Classification\n",
        "\n",
        "In this section, we will look at using stacking for a classification problem.\n",
        "\n",
        "First, we can use the [make_classification() function](https://scikit-learn.org/stable/modules/generated/sklearn.datasets.make_classification.html) to create a synthetic binary classification problem with 1,000 examples and 20 input features"
      ]
    },
    {
      "cell_type": "code",
      "metadata": {
        "id": "Uq6pDJsLAFgM",
        "colab_type": "code",
        "colab": {
          "base_uri": "https://localhost:8080/",
          "height": 35
        },
        "outputId": "7787cf69-5231-44c4-aae3-c02d4f9885e1"
      },
      "source": [
        "# test classification dataset\n",
        "from sklearn.datasets import make_classification\n",
        "# define dataset\n",
        "X, y = make_classification(n_samples=1000, n_features=20, n_informative=15, n_redundant=5, random_state=1)\n",
        "# summarize the dataset\n",
        "print(X.shape, y.shape)"
      ],
      "execution_count": 14,
      "outputs": [
        {
          "output_type": "stream",
          "text": [
            "(1000, 20) (1000,)\n"
          ],
          "name": "stdout"
        }
      ]
    },
    {
      "cell_type": "markdown",
      "metadata": {
        "id": "FNIb46KpDHC4",
        "colab_type": "text"
      },
      "source": [
        "Evaluating a suite of different machine learning models on the dataset.\n",
        "\n",
        "Specifically, we will evaluate the following five algorithms:\n",
        "\n",
        "* Logistic Regression.\n",
        "* k-Nearest Neighbors.\n",
        "* Decision Tree.\n",
        "* Support Vector Machine.\n",
        "* Naive Bayes.\n",
        "\n",
        "Each algorithm will be evaluated using default model hyperparameters. The function get_models() below creates the models we wish to evaluate."
      ]
    },
    {
      "cell_type": "code",
      "metadata": {
        "id": "JQrZq5PAe5my",
        "colab_type": "code",
        "colab": {
          "base_uri": "https://localhost:8080/",
          "height": 354
        },
        "outputId": "0d900ad0-8e56-4aec-a918-254337a04ce6"
      },
      "source": [
        "# compare standalone models for binary classification\n",
        "from numpy import mean\n",
        "from numpy import std\n",
        "from sklearn.datasets import make_classification\n",
        "from sklearn.model_selection import cross_val_score\n",
        "from sklearn.model_selection import RepeatedStratifiedKFold\n",
        "from sklearn.linear_model import LogisticRegression\n",
        "from sklearn.neighbors import KNeighborsClassifier\n",
        "from sklearn.tree import DecisionTreeClassifier\n",
        "from sklearn.svm import SVC\n",
        "from sklearn.naive_bayes import GaussianNB\n",
        "from matplotlib import pyplot\n",
        "\n",
        "# get the dataset\n",
        "def get_dataset():\n",
        "\tX, y = make_classification(n_samples=1000, n_features=20, n_informative=15, n_redundant=5, random_state=1)\n",
        "\treturn X, y\n",
        "\n",
        "# get a list of models to evaluate\n",
        "def get_models():\n",
        "\tmodels = dict()\n",
        "\tmodels['lr'] = LogisticRegression()\n",
        "\tmodels['knn'] = KNeighborsClassifier()\n",
        "\tmodels['cart'] = DecisionTreeClassifier()\n",
        "\tmodels['svm'] = SVC()\n",
        "\tmodels['bayes'] = GaussianNB()\n",
        "\treturn models\n",
        "\n",
        "# evaluate a given model using cross-validation\n",
        "def evaluate_model(model):\n",
        "\tcv = RepeatedStratifiedKFold(n_splits=10, n_repeats=3, random_state=1)\n",
        "\tscores = cross_val_score(model, X, y, scoring='accuracy', cv=cv, n_jobs=-1, error_score='raise')\n",
        "\treturn scores\n",
        "\n",
        "# define dataset\n",
        "X, y = get_dataset()\n",
        "# get the models to evaluate\n",
        "models = get_models()\n",
        "# evaluate the models and store results\n",
        "results, names = list(), list()\n",
        "for name, model in models.items():\n",
        "\tscores = evaluate_model(model)\n",
        "\tresults.append(scores)\n",
        "\tnames.append(name)\n",
        "\tprint('>%s %.3f (%.3f)' % (name, mean(scores), std(scores)))\n",
        "# plot model performance for comparison\n",
        "pyplot.boxplot(results, labels=names, showmeans=True)\n",
        "pyplot.show()"
      ],
      "execution_count": 16,
      "outputs": [
        {
          "output_type": "stream",
          "text": [
            ">lr 0.866 (0.029)\n",
            ">knn 0.931 (0.025)\n",
            ">cart 0.825 (0.046)\n",
            ">svm 0.957 (0.020)\n",
            ">bayes 0.833 (0.031)\n"
          ],
          "name": "stdout"
        },
        {
          "output_type": "display_data",
          "data": {
            "image/png": "[encoded data removed]",
            "text/plain": [
              "<Figure size 432x288 with 1 Axes>"
            ]
          },
          "metadata": {
            "tags": [],
            "needs_background": "light"
          }
        }
      ]
    },
    {
      "cell_type": "markdown",
      "metadata": {
        "id": "n5zTQyT4D9yX",
        "colab_type": "text"
      },
      "source": [
        "`SVM` performs the best with about `95.7` percent mean accuracy.\n",
        "\n",
        "A box-and-whisker plot is then created comparing the distribution accuracy scores for each model, allowing us to clearly see that KNN and `SVM` perform better on average than LR, CART, and Bayes."
      ]
    },
    {
      "cell_type": "markdown",
      "metadata": {
        "id": "c6KczN6gFWbG",
        "colab_type": "text"
      },
      "source": [
        "Next, we can try to `combine these five models` into `a single ensemble model using stacking.`\n",
        "\n",
        "We can use a logistic regression model to learn how to best combine the predictions from each of the separate five models.\n",
        "\n",
        "The  [get_stacking() function](https://scikit-learn.org/stable/modules/generated/sklearn.ensemble.StackingClassifier.html) below defines the `StackingClassifier` model by first defining a list of tuples for the five base models, then defining the logistic regression meta-model to combine the predictions from the base models using 5-fold cross-validation.\n",
        "\n",
        "Our expectation is that the stacking ensemble will perform better than any single base model.\n",
        "\n",
        "This is not always the case and if it is not the case, then the base model should be used in favor of the ensemble model.\n"
      ]
    },
    {
      "cell_type": "code",
      "metadata": {
        "id": "w2ArqqdvEPFg",
        "colab_type": "code",
        "colab": {
          "base_uri": "https://localhost:8080/",
          "height": 371
        },
        "outputId": "52f109a3-e5f8-4b8d-d0a3-0ba88f85ff96"
      },
      "source": [
        "# compare ensemble to each baseline classifier\n",
        "from numpy import mean\n",
        "from numpy import std\n",
        "from sklearn.datasets import make_classification\n",
        "from sklearn.model_selection import cross_val_score\n",
        "from sklearn.model_selection import RepeatedStratifiedKFold\n",
        "from sklearn.linear_model import LogisticRegression\n",
        "from sklearn.neighbors import KNeighborsClassifier\n",
        "from sklearn.tree import DecisionTreeClassifier\n",
        "from sklearn.svm import SVC\n",
        "from sklearn.naive_bayes import GaussianNB\n",
        "from sklearn.ensemble import StackingClassifier\n",
        "from matplotlib import pyplot\n",
        "\n",
        "# get the dataset\n",
        "def get_dataset():\n",
        "\tX, y = make_classification(n_samples=1000, n_features=20, n_informative=15, n_redundant=5, random_state=1)\n",
        "\treturn X, y\n",
        "\n",
        "# get a stacking ensemble of models\n",
        "def get_stacking():\n",
        "\t# define the base models\n",
        "\tlevel0 = list()\n",
        "\tlevel0.append(('lr', LogisticRegression()))\n",
        "\tlevel0.append(('knn', KNeighborsClassifier()))\n",
        "\tlevel0.append(('cart', DecisionTreeClassifier()))\n",
        "\tlevel0.append(('svm', SVC()))\n",
        "\tlevel0.append(('bayes', GaussianNB()))\n",
        "\t# define meta learner model\n",
        "\tlevel1 = LogisticRegression()\n",
        "\t# define the stacking ensemble\n",
        "\tmodel = StackingClassifier(estimators=level0, final_estimator=level1, cv=5)\n",
        "\treturn model\n",
        "\n",
        "# get a list of models to evaluate\n",
        "def get_models():\n",
        "\tmodels = dict()\n",
        "\tmodels['lr'] = LogisticRegression()\n",
        "\tmodels['knn'] = KNeighborsClassifier()\n",
        "\tmodels['cart'] = DecisionTreeClassifier()\n",
        "\tmodels['svm'] = SVC()\n",
        "\tmodels['bayes'] = GaussianNB()\n",
        "\tmodels['stacking'] = get_stacking()\n",
        "\treturn models\n",
        "\n",
        "# evaluate a give model using cross-validation\n",
        "def evaluate_model(model):\n",
        "\tcv = RepeatedStratifiedKFold(n_splits=10, n_repeats=3, random_state=1)\n",
        "\tscores = cross_val_score(model, X, y, scoring='accuracy', cv=cv, n_jobs=-1, error_score='raise')\n",
        "\treturn scores\n",
        "\n",
        "# define dataset\n",
        "X, y = get_dataset()\n",
        "# get the models to evaluate\n",
        "models = get_models()\n",
        "# evaluate the models and store results\n",
        "results, names = list(), list()\n",
        "for name, model in models.items():\n",
        "\tscores = evaluate_model(model)\n",
        "\tresults.append(scores)\n",
        "\tnames.append(name)\n",
        "\tprint('>%s %.3f (%.3f)' % (name, mean(scores), std(scores)))\n",
        "# plot model performance for comparison\n",
        "pyplot.boxplot(results, labels=names, showmeans=True)\n",
        "pyplot.show()"
      ],
      "execution_count": 17,
      "outputs": [
        {
          "output_type": "stream",
          "text": [
            ">lr 0.866 (0.029)\n",
            ">knn 0.931 (0.025)\n",
            ">cart 0.826 (0.039)\n",
            ">svm 0.957 (0.020)\n",
            ">bayes 0.833 (0.031)\n",
            ">stacking 0.964 (0.018)\n"
          ],
          "name": "stdout"
        },
        {
          "output_type": "display_data",
          "data": {
            "image/png": "[encoded data removed]",
            "text/plain": [
              "<Figure size 432x288 with 1 Axes>"
            ]
          },
          "metadata": {
            "tags": [],
            "needs_background": "light"
          }
        }
      ]
    },
    {
      "cell_type": "markdown",
      "metadata": {
        "id": "7IiZngutJ75U",
        "colab_type": "text"
      },
      "source": [
        "If we choose a stacking ensemble as our final model, we can fit and use it to make predictions on new data just like any other model.\n",
        "\n",
        "First, the stacking ensemble is fit on all available data, then the predict() function can be called to make predictions on new data.\n",
        "\n",
        "The example below demonstrates this on our binary classification dataset"
      ]
    },
    {
      "cell_type": "code",
      "metadata": {
        "id": "9tpE5coeJ-EJ",
        "colab_type": "code",
        "colab": {
          "base_uri": "https://localhost:8080/",
          "height": 35
        },
        "outputId": "ca7cda1d-ba6d-4801-8bbd-d376280758ee"
      },
      "source": [
        "# make a prediction with a stacking ensemble\n",
        "from sklearn.datasets import make_classification\n",
        "from sklearn.ensemble import StackingClassifier\n",
        "from sklearn.linear_model import LogisticRegression\n",
        "from sklearn.neighbors import KNeighborsClassifier\n",
        "from sklearn.tree import DecisionTreeClassifier\n",
        "from sklearn.svm import SVC\n",
        "from sklearn.naive_bayes import GaussianNB\n",
        "# define dataset\n",
        "X, y = make_classification(n_samples=1000, n_features=20, n_informative=15, n_redundant=5, random_state=1)\n",
        "# define the base models\n",
        "level0 = list()\n",
        "level0.append(('lr', LogisticRegression()))\n",
        "level0.append(('knn', KNeighborsClassifier()))\n",
        "level0.append(('cart', DecisionTreeClassifier()))\n",
        "level0.append(('svm', SVC()))\n",
        "level0.append(('bayes', GaussianNB()))\n",
        "# define meta learner model\n",
        "level1 = LogisticRegression()\n",
        "# define the stacking ensemble\n",
        "model = StackingClassifier(estimators=level0, final_estimator=level1, cv=5)\n",
        "# fit the model on all available data\n",
        "model.fit(X, y)\n",
        "# make a prediction for one example\n",
        "data = [[2.47475454,0.40165523,1.68081787,2.88940715,0.91704519,-3.07950644,4.39961206,0.72464273,-4.86563631,-6.06338084,-1.22209949,-0.4699618,1.01222748,-0.6899355,-0.53000581,6.86966784,-3.27211075,-6.59044146,-2.21290585,-3.139579]]\n",
        "yhat = model.predict(data)\n",
        "print('Predicted Class: %d' % (yhat))"
      ],
      "execution_count": 18,
      "outputs": [
        {
          "output_type": "stream",
          "text": [
            "Predicted Class: 0\n"
          ],
          "name": "stdout"
        }
      ]
    },
    {
      "cell_type": "markdown",
      "metadata": {
        "id": "1e3q9bZze6X0",
        "colab_type": "text"
      },
      "source": [
        "### 4. Stacking for Regression\n",
        "\n",
        "In this section, we will look at using stacking for a regression problem.\n",
        "\n",
        "First, we can use the make_regression() [function](https://scikit-learn.org/stable/modules/generated/sklearn.datasets.make_regression.html) to create a synthetic regression problem with 1,000 examples and 20 input features.\n",
        "\n",
        "Specifically, we will evaluate the following three algorithms:\n",
        "\n",
        "* k-Nearest Neighbors.\n",
        "* Decision Tree.\n",
        "* Support Vector Regressio"
      ]
    },
    {
      "cell_type": "code",
      "metadata": {
        "id": "Yj2OUomye_BL",
        "colab_type": "code",
        "colab": {
          "base_uri": "https://localhost:8080/",
          "height": 317
        },
        "outputId": "e7fce472-98b5-452f-f742-934a6ec71927"
      },
      "source": [
        "# compare machine learning models for regression\n",
        "from numpy import mean\n",
        "from numpy import std\n",
        "from sklearn.datasets import make_regression\n",
        "from sklearn.model_selection import cross_val_score\n",
        "from sklearn.model_selection import RepeatedKFold\n",
        "from sklearn.linear_model import LinearRegression\n",
        "from sklearn.neighbors import KNeighborsRegressor\n",
        "from sklearn.tree import DecisionTreeRegressor\n",
        "from sklearn.svm import SVR\n",
        "from matplotlib import pyplot\n",
        "\n",
        "# get the dataset\n",
        "def get_dataset():\n",
        "\tX, y = make_regression(n_samples=1000, n_features=20, n_informative=15, noise=0.1, random_state=1)\n",
        "\treturn X, y\n",
        "\n",
        "# get a list of models to evaluate\n",
        "def get_models():\n",
        "\tmodels = dict()\n",
        "\tmodels['knn'] = KNeighborsRegressor()\n",
        "\tmodels['cart'] = DecisionTreeRegressor()\n",
        "\tmodels['svm'] = SVR()\n",
        "\treturn models\n",
        "\n",
        "# evaluate a given model using  repeated k-fold cross-validation\n",
        "def evaluate_model(model):\n",
        "\tcv = RepeatedKFold(n_splits=10, n_repeats=3, random_state=1)\n",
        "\tscores = cross_val_score(model, X, y, scoring='neg_mean_absolute_error', cv=cv, n_jobs=-1, error_score='raise')\n",
        "\treturn scores\n",
        "\n",
        "# define dataset\n",
        "X, y = get_dataset()\n",
        "# get the models to evaluate\n",
        "models = get_models()\n",
        "# evaluate the models and store results\n",
        "results, names = list(), list()\n",
        "for name, model in models.items():\n",
        "\tscores = evaluate_model(model)\n",
        "\tresults.append(scores)\n",
        "\tnames.append(name)\n",
        "\tprint('>%s %.3f (%.3f)' % (name, mean(scores), std(scores)))\n",
        "# plot model performance for comparison\n",
        "pyplot.boxplot(results, labels=names, showmeans=True)\n",
        "pyplot.show()"
      ],
      "execution_count": 19,
      "outputs": [
        {
          "output_type": "stream",
          "text": [
            ">knn -101.019 (7.161)\n",
            ">cart -148.460 (11.787)\n",
            ">svm -162.419 (12.565)\n"
          ],
          "name": "stdout"
        },
        {
          "output_type": "display_data",
          "data": {
            "image/png": "[encoded data removed]",
            "text/plain": [
              "<Figure size 432x288 with 1 Axes>"
            ]
          },
          "metadata": {
            "tags": [],
            "needs_background": "light"
          }
        }
      ]
    },
    {
      "cell_type": "markdown",
      "metadata": {
        "id": "fADE1KkIKmrh",
        "colab_type": "text"
      },
      "source": [
        "Here we have three different algorithms that perform well, presumably in different ways on this dataset.\n",
        "\n",
        "Next, we can try to combine these three models into a single ensemble model using stacking.\n",
        "\n",
        "We can `use a linear regression model` to learn how to best `combine the predictions` from each of the separate three models.\n",
        "\n",
        "The get_stacking() `function` below defines the [StackingRegressor](https://scikit-learn.org/stable/modules/generated/sklearn.ensemble.StackingRegressor.html) model by first defining a list of tuples for the three base models, then defining the linear regression meta-model to combine the predictions from the base models using `5-fold cross-validation`."
      ]
    },
    {
      "cell_type": "code",
      "metadata": {
        "id": "q8Rdyb2bKiO1",
        "colab_type": "code",
        "colab": {
          "base_uri": "https://localhost:8080/",
          "height": 337
        },
        "outputId": "d1e0a019-234f-4375-85d8-679fb8f5de61"
      },
      "source": [
        "# compare ensemble to each standalone models for regression\n",
        "from numpy import mean\n",
        "from numpy import std\n",
        "from sklearn.datasets import make_regression\n",
        "from sklearn.model_selection import cross_val_score\n",
        "from sklearn.model_selection import RepeatedKFold\n",
        "from sklearn.linear_model import LinearRegression\n",
        "from sklearn.neighbors import KNeighborsRegressor\n",
        "from sklearn.tree import DecisionTreeRegressor\n",
        "from sklearn.svm import SVR\n",
        "from sklearn.ensemble import StackingRegressor\n",
        "from matplotlib import pyplot\n",
        "\n",
        "# get the dataset\n",
        "def get_dataset():\n",
        "\tX, y = make_regression(n_samples=1000, n_features=20, n_informative=15, noise=0.1, random_state=1)\n",
        "\treturn X, y\n",
        "\n",
        "# get a stacking ensemble of models\n",
        "def get_stacking():\n",
        "\t# define the base models\n",
        "\tlevel0 = list()\n",
        "\tlevel0.append(('knn', KNeighborsRegressor()))\n",
        "\tlevel0.append(('cart', DecisionTreeRegressor()))\n",
        "\tlevel0.append(('svm', SVR()))\n",
        "\t# define meta learner model\n",
        "\tlevel1 = LinearRegression()\n",
        "\t# define the stacking ensemble\n",
        "\tmodel = StackingRegressor(estimators=level0, final_estimator=level1, cv=5)\n",
        "\treturn model\n",
        "\n",
        "# get a list of models to evaluate\n",
        "def get_models():\n",
        "\tmodels = dict()\n",
        "\tmodels['knn'] = KNeighborsRegressor()\n",
        "\tmodels['cart'] = DecisionTreeRegressor()\n",
        "\tmodels['svm'] = SVR()\n",
        "\tmodels['stacking'] = get_stacking()\n",
        "\treturn models\n",
        "\n",
        "# evaluate a given model using cross-validation\n",
        "def evaluate_model(model):\n",
        "\tcv = RepeatedKFold(n_splits=10, n_repeats=3, random_state=1)\n",
        "\tscores = cross_val_score(model, X, y, scoring='neg_mean_absolute_error', cv=cv, n_jobs=-1, error_score='raise')\n",
        "\treturn scores\n",
        "\n",
        "# define dataset\n",
        "X, y = get_dataset()\n",
        "# get the models to evaluate\n",
        "models = get_models()\n",
        "# evaluate the models and store results\n",
        "results, names = list(), list()\n",
        "for name, model in models.items():\n",
        "\tscores = evaluate_model(model)\n",
        "\tresults.append(scores)\n",
        "\tnames.append(name)\n",
        "\tprint('>%s %.3f (%.3f)' % (name, mean(scores), std(scores)))\n",
        "# plot model performance for comparison\n",
        "pyplot.boxplot(results, labels=names, showmeans=True)\n",
        "pyplot.show()"
      ],
      "execution_count": 20,
      "outputs": [
        {
          "output_type": "stream",
          "text": [
            ">knn -101.019 (7.161)\n",
            ">cart -147.185 (10.837)\n",
            ">svm -162.419 (12.565)\n",
            ">stacking -56.696 (5.223)\n"
          ],
          "name": "stdout"
        },
        {
          "output_type": "display_data",
          "data": {
            "image/png": "[encoded data removed]",
            "text/plain": [
              "<Figure size 432x288 with 1 Axes>"
            ]
          },
          "metadata": {
            "tags": [],
            "needs_background": "light"
          }
        }
      ]
    },
    {
      "cell_type": "markdown",
      "metadata": {
        "id": "ggB_kVhQLFxC",
        "colab_type": "text"
      },
      "source": [
        "If we choose a stacking ensemble as our final model, we can fit and use it to make predictions on new data just like any other model.\n",
        "\n",
        "First, the stacking ensemble is fit on all available data, then the `predict() function` can be called to make predictions on new data.\n",
        "\n",
        "The example below demonstrates this on our regression dataset"
      ]
    },
    {
      "cell_type": "code",
      "metadata": {
        "id": "5pMF3wAxK6L-",
        "colab_type": "code",
        "colab": {
          "base_uri": "https://localhost:8080/",
          "height": 35
        },
        "outputId": "5ec3d17d-7706-4921-acc0-63601173b43f"
      },
      "source": [
        "# make a prediction with a stacking ensemble\n",
        "from sklearn.datasets import make_regression\n",
        "from sklearn.linear_model import LinearRegression\n",
        "from sklearn.neighbors import KNeighborsRegressor\n",
        "from sklearn.tree import DecisionTreeRegressor\n",
        "from sklearn.svm import SVR\n",
        "from sklearn.ensemble import StackingRegressor\n",
        "# define dataset\n",
        "X, y = make_regression(n_samples=1000, n_features=20, n_informative=15, noise=0.1, random_state=1)\n",
        "# define the base models\n",
        "level0 = list()\n",
        "level0.append(('knn', KNeighborsRegressor()))\n",
        "level0.append(('cart', DecisionTreeRegressor()))\n",
        "level0.append(('svm', SVR()))\n",
        "# define meta learner model\n",
        "level1 = LinearRegression()\n",
        "# define the stacking ensemble\n",
        "model = StackingRegressor(estimators=level0, final_estimator=level1, cv=5)\n",
        "# fit the model on all available data\n",
        "model.fit(X, y)\n",
        "# make a prediction for one example\n",
        "data = [[0.59332206,-0.56637507,1.34808718,-0.57054047,-0.72480487,1.05648449,0.77744852,0.07361796,0.88398267,2.02843157,1.01902732,0.11227799,0.94218853,0.26741783,0.91458143,-0.72759572,1.08842814,-0.61450942,-0.69387293,1.69169009]]\n",
        "yhat = model.predict(data)\n",
        "print('Predicted Value: %.3f' % (yhat))"
      ],
      "execution_count": 21,
      "outputs": [
        {
          "output_type": "stream",
          "text": [
            "Predicted Value: 556.980\n"
          ],
          "name": "stdout"
        }
      ]
    },
    {
      "cell_type": "markdown",
      "metadata": {
        "id": "bwbRN6_IO08s",
        "colab_type": "text"
      },
      "source": [
        "#### Further Reading\n",
        "\n",
        "* How to Implement Stacked Generalization (Stacking) From Scratch With Python [link](https://machinelearningmastery.com/implementing-stacking-scratch-python/)\n",
        "* How to Develop a Stacking Ensemble for Deep Learning Neural Networks in Python With Keras [link](https://machinelearningmastery.com/stacking-ensemble-for-deep-learning-neural-networks/)\n",
        "* How to Develop Super Learner Ensembles in Python [link](https://machinelearningmastery.com/super-learner-ensemble-in-python/)\n",
        "* How to Use Out-of-Fold Predictions in Machine Learning [link](https://machinelearningmastery.com/out-of-fold-predictions-in-machine-learning/)\n",
        "* A Gentle Introduction to k-fold Cross-Validation [link](https://machinelearningmastery.com/k-fold-cross-validation/)"
      ]
    },
    {
      "cell_type": "code",
      "metadata": {
        "id": "gKvhWqbFK-ru",
        "colab_type": "code",
        "colab": {}
      },
      "source": [
        ""
      ],
      "execution_count": null,
      "outputs": []
    }
  ]
}